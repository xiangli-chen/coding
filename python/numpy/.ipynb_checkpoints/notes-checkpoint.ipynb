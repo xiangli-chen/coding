{
 "cells": [
  {
   "cell_type": "markdown",
   "metadata": {
    "collapsed": true
   },
   "source": [
    "# Numpy"
   ]
  },
  {
   "cell_type": "markdown",
   "metadata": {},
   "source": [
    "## general concepts\n",
    "\n",
    "ndarray object is the core of NumPy - n-dimensional arrys of homogeneous data types.\n",
    "NumPy arrays have a fixed size at creation. Elements are all of the same data type.\n",
    "\n",
    "## ndarray object\n",
    "```python\n",
    "import numpy as np\n",
    "\n",
    "# create arrays using array function from a Python list or tuple\n",
    "a = np.array([1, 2, 3])\n",
    "b = np.array([(1, 2, 3), (4, 5, 6)])\n",
    "\n",
    "# properties\n",
    "n.ndim, a.shape, a.size, a.dtype\n",
    "\n",
    "# initialize ndarray object\n",
    "np.zeros((3,4)) \n",
    "a.fill(0)\n",
    "np.zeros(2,3,4) # row 3 col 4 depth 2\n",
    "np.zeros_like(a) # an array of zeros with the same shape and type as a\n",
    "np.ones((2,3), dtype = np.int16)\n",
    "np.ones_like(a) # an array of ones with the same shape and type as a\n",
    "\n",
    "np.arrange(10, 30, 5) # [10, 15, 20, 25]\n",
    "np.linspace(0, 2, 5) # [0., 0.5, 1., 1.5, 2.]\n",
    "```"
   ]
  },
  {
   "cell_type": "code",
   "execution_count": 8,
   "metadata": {},
   "outputs": [
    {
     "data": {
      "text/plain": [
       "(2, (2, 3), 6, dtype('int64'))"
      ]
     },
     "execution_count": 8,
     "metadata": {},
     "output_type": "execute_result"
    }
   ],
   "source": [
    "import numpy as np\n",
    "a = np.array([[1,2,3],[4,5,6]])\n",
    "a.ndim, a.shape, a.size, a.dtype"
   ]
  },
  {
   "cell_type": "code",
   "execution_count": null,
   "metadata": {
    "collapsed": true
   },
   "outputs": [],
   "source": []
  }
 ],
 "metadata": {
  "kernelspec": {
   "display_name": "Python 3",
   "language": "python",
   "name": "python3"
  },
  "language_info": {
   "codemirror_mode": {
    "name": "ipython",
    "version": 3
   },
   "file_extension": ".py",
   "mimetype": "text/x-python",
   "name": "python",
   "nbconvert_exporter": "python",
   "pygments_lexer": "ipython3",
   "version": "3.6.1"
  }
 },
 "nbformat": 4,
 "nbformat_minor": 2
}
