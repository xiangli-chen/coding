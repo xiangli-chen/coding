{
 "cells": [
  {
   "cell_type": "markdown",
   "metadata": {},
   "source": [
    "# Third party libraries\n",
    "Suppose requirements.txt is a project's dependencies file with the following content:\n",
    "\n",
    "beautifulsoup4==4.5.1  \n",
    "bs4==0.0.1  \n",
    "pytz==2016.7  \n",
    "requests==2.11.1  \n",
    "\n",
    "Use pip to install all of a project's dependencies at once.\n",
    "```bash\n",
    "$ pip3 install -r requirements.txt\n",
    "```"
   ]
  },
  {
   "cell_type": "code",
   "execution_count": null,
   "metadata": {
    "collapsed": true
   },
   "outputs": [],
   "source": []
  }
 ],
 "metadata": {
  "kernelspec": {
   "display_name": "Python 3",
   "language": "python",
   "name": "python3"
  },
  "language_info": {
   "codemirror_mode": {
    "name": "ipython",
    "version": 3
   },
   "file_extension": ".py",
   "mimetype": "text/x-python",
   "name": "python",
   "nbconvert_exporter": "python",
   "pygments_lexer": "ipython3",
   "version": "3.6.4"
  }
 },
 "nbformat": 4,
 "nbformat_minor": 2
}
