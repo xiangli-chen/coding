{
 "cells": [
  {
   "cell_type": "markdown",
   "metadata": {},
   "source": [
    "# Collections"
   ]
  },
  {
   "cell_type": "markdown",
   "metadata": {},
   "source": [
    "## Sequence\n",
    "Sequence types: list, tuple, range"
   ]
  },
  {
   "cell_type": "markdown",
   "metadata": {},
   "source": [
    "### Lists\n",
    "A list is ordered and **mutable** sequence defined using **square brackets []**.\n",
    "```python\n",
    "# create a list\n",
    "squares = [1,4,9]\n",
    "a_list = list(range(1,100)) # create a list with 1,2,...,99\n",
    "\n",
    "# concatenation\n",
    "squares + [16,25]\n",
    "squares * n # adding squares to itself n times\n",
    "\n",
    "# indexing and slicing\n",
    "new_squares = squares[:] # all slice operations return a new list\n",
    "a_list = ['a','b','c']\n",
    "a_list[-1] # 'c'. refers to the last element\n",
    "a_list[::2] # ['a','c']\n",
    "a_list[::-1] # ['c','b','a'] reverse a list\n",
    "\n",
    "a_list[1:3] = ['B','C'] # ['a','B','C']. start included, end excluded\n",
    "\n",
    "a_list[1:3] = [] # ['a']\n",
    "a_list[:] = [] # []. clear the list\n",
    "\n",
    "\n",
    "# methods\n",
    "a_list.append(x) \n",
    "a_list.extend(iterable) \n",
    "a_list.insert(i,x)\n",
    "a_list.remove(x) # remove the first item whose value is x. error no such item\n",
    "a_list.pop(i) # remove the item at position i, and return it.\n",
    "a_list.pop() # remove and return the last item. If empty, raise IndexError\n",
    "a_list.clear() # remove all items\n",
    "a_list.index(x[,start[,end]]) \n",
    "a_list.count(x)\n",
    "a_list.sort(key=None,reverse=False)\n",
    "a_list.reverse()\n",
    "a_list.copy() # Equivalent to [:]\n",
    "\n",
    "# others\n",
    "letters = ['a','b']\n",
    "'a' in letters # True\n",
    "len(letters) # 2\n",
    "```\n",
    "\n",
    "A **list comprehension** consists of brackets containing an expression \n",
    "followed by a for clause, then zero or more for or if clauses.\n",
    "```python\n",
    "# select pairs\n",
    "[[x, y] for x in [1,2] for y in [3,1] if x != y] # [(1, 3), (2, 3), (2, 1)]\n",
    "\n",
    "# transpose a list of list\n",
    "l = [[1,2],[3,4]]\n",
    "h = [[l[i][j] for i in range(2)] for j in range(2)] # [[1, 3], [2, 4]]\n",
    "```\n",
    "\n",
    "**del statement** removes items from a list  \n",
    "```python\n",
    "del a[0] del a[2:4] del a[:] del a\n",
    "```"
   ]
  },
  {
   "cell_type": "markdown",
   "metadata": {},
   "source": [
    "#### Common data structures using list\n",
    "- **Stack**\n",
    "```python\n",
    "stack = [] \n",
    "stack.append(1) # push\n",
    "stack.pop() # pop\n",
    "```\n",
    "\n",
    "- **Queue**\n",
    "```python \n",
    "from collections import deque\n",
    "queue = deque(['a','b','c'])\n",
    "queue.append('d') # \n",
    "queue.popleft()\n",
    "```\n",
    "\n",
    "- **Heap**\n",
    "```python\n",
    "from heapq import heapify, heappop, heappush\n",
    "data = [1, 3, 5, 7]\n",
    "heapify(data)\n",
    "heappush(data,-5)\n",
    "heappop(data)\n",
    "```"
   ]
  },
  {
   "cell_type": "markdown",
   "metadata": {},
   "source": [
    "**Looping through sequences**\n",
    "```python\n",
    "\n",
    "# looping through a sequence\n",
    "for v in ['tic', 'tac', 'toe']:\n",
    "    print(v)\n",
    "\n",
    "# looping through a sequence - enumerate\n",
    "for i, v in enumerate(['tic', 'tac', 'toe']):\n",
    "    print(i, v)\n",
    "\n",
    "# looping through two or more sequences - zip\n",
    "for q, a in zip(questions, answers):\n",
    "    print('What is your {0}? It is {1}.'.format(q, a))\n",
    "\n",
    "# looping over a sequence in reverse\n",
    "for i in reversed(range(1, 10, 2)):\n",
    "    print(i)\n",
    "\n",
    "# looping over a sequence in sorted order\n",
    "for i in sorted([3, 1, 2]):\n",
    "    print(i)\n",
    "```"
   ]
  },
  {
   "cell_type": "markdown",
   "metadata": {},
   "source": [
    "### Tuples\n",
    "A tuple is ordered but **immutable** sequence.\n",
    "Tuples can be used as keys in dictionaries and as elements of sets, while lists cannot.  \n",
    "Aassign to the individual items of a tuple is impossible.\n",
    "\n",
    "```python\n",
    "t = (1, 2) \n",
    "t = 1,2,'hello' # consists of a number of values separated by commas\n",
    "t = () \n",
    "t = 'hello',\n",
    "\n",
    "# assign multiple variables in a compact way\n",
    "dimensions = 52, 40, 100 \n",
    "length, width, height = dimensions \n",
    "```\n",
    "A common use for tuples is to **return multiple values** from a function.\n",
    "```python\n",
    "def first_and_last(sequence):\n",
    "    \"\"\"returns the first and last elements of a sequence\"\"\"\n",
    "    return sequence[0], sequence[-1]\n",
    "start, end = first_and_last([\"Spam\", \"egg\", \"sausage\", \"Spam\"])\n",
    "print(start, end) # Spam Spam\n",
    "```"
   ]
  },
  {
   "cell_type": "markdown",
   "metadata": {},
   "source": [
    "### Range\n",
    "The range type represents an **immutable** sequence of numbers and is commonly used for looping a specific number of times in for loops.  \n",
    "A range object will always take the same (small) amount of memory (only stores the start, stop and step values).\n",
    "\n",
    "```python\n",
    "list(range(10)) # [0, 1, 2, 3, 4, 5, 6, 7, 8, 9]\n",
    "list(range(0, 10, 3)) # [0, 3, 6, 9]\n",
    "```"
   ]
  },
  {
   "cell_type": "markdown",
   "metadata": {},
   "source": [
    "## Sets\n",
    "An **unordered** and **mmutable** collection with no duplicated elements.\n",
    "\n",
    "```python\n",
    "# create a set\n",
    "s = set() # empty set, not {} which creats an empty dictionary\n",
    "s = {'a', 'b'} \n",
    "s = set('a', 'b')\n",
    "s = set(['a','b','a','c']) # {'a','b','c'} create a set from a list removing duplicated elements\n",
    "s = set('abracadabra') # {'a','r','b','c','d'}\n",
    "\n",
    "# set operation\n",
    "a - b  a | b  a & b\n",
    "a ^ b # in a or b but not both\n",
    "\n",
    "# methods\n",
    "a_set.add(x)\n",
    "a_set.remove(x) # Raises KeyError if not exists\n",
    "a_set.pop() # remove and return an arbitrary element. Raises KeyError if empty\n",
    "a_set.clear() # remove all elements\n",
    "\n",
    "```\n",
    "Set comprehension\n",
    "```python\n",
    "{x for x in 'abracadabra' if x not in 'abc'} # {'d', 'r'}\n",
    "```"
   ]
  },
  {
   "cell_type": "markdown",
   "metadata": {},
   "source": [
    "## Dictionaries\n",
    "Dictionaries can have keys of any **immutable** type. It's not even necessary for every key to have the same type.\n",
    "```python\n",
    "# create a dictionary\n",
    "a_dic = {} # an empty dic\n",
    "a_dic = dict([('sape', 4139), ('jack', 4098)]) # build by dict() constructor\n",
    "a_dic = dict(sape=4139, jack=4098) # {'jack':4098, 'sape':4139}\n",
    "a_dic = {'jack':4098, 'sape':4139}\n",
    "\n",
    "# basic operation\n",
    "a_dic = {'jack':4098, 'sape':4139}\n",
    "a_dic['jack']         # 4098\n",
    "a_dic['jack'] = 4099  # update the value\n",
    "a_dic['guido']        # raise a keyError\n",
    "a_dic['guido'] = 4127 # add a pair if not exists\n",
    "\n",
    "# methods\n",
    "a_dic = {'jack':4098, 'sape':4139}\n",
    "a_dic.get('jack') # 4098. If not exists, return None.\n",
    "a_dic.get('guido','not exists') # 0. If not exists, return the default value.\n",
    "list(a_dic.keys()) # list keys\n",
    "list(a_dic.values()) # list values\n",
    "a_dic.update({'guido':4127}) # overwriting existing keys or add a key/val pair if not exists\n",
    "a_dic.pop('guido') # 4127. remove an item and return its value. \n",
    "                   # If not exists, raise a keyError.\n",
    "a_dic.pop('guido',0) # 0. If not exists, return default value.\n",
    "a_dic.popitem() # Remove and return an arbitrary (key, value) pair. If empty, raise keyError\n",
    "a.clear() # remove all items\n",
    "a.copy() # return a shallow copy\n",
    "\n",
    "# others\n",
    "a_dic = {'jack':4098, 'sape':4139}\n",
    "len(a_dic) # num of items\n",
    "'sape' in a_dic # True. check if the dictionary contains the key\n",
    "del a_dic['sape'] # remove a pair\n",
    "```\n",
    "\n",
    "Dict comprehension\n",
    "```python\n",
    "{x: x**2 for x in (2, 4, 5)} # {2: 4, 4: 16, 5: 25}\n",
    "```\n",
    "\n",
    "**Looping through dictionaries**\n",
    "```python\n",
    "knights = {'gallahad': 'the pure', 'robin': 'the brave'}\n",
    "\n",
    "for k in knights: # iterate through the keys by default\n",
    "    print(k, knights[k])\n",
    "\n",
    "for k, v in knights.items(): # use items() method\n",
    "    print(k, v)\n",
    "```"
   ]
  },
  {
   "cell_type": "code",
   "execution_count": 4,
   "metadata": {},
   "outputs": [
    {
     "data": {
      "text/plain": [
       "{'a', 'b'}"
      ]
     },
     "execution_count": 4,
     "metadata": {},
     "output_type": "execute_result"
    }
   ],
   "source": [
    "set(['a','b'])"
   ]
  },
  {
   "cell_type": "code",
   "execution_count": null,
   "metadata": {
    "collapsed": true
   },
   "outputs": [],
   "source": []
  }
 ],
 "metadata": {
  "kernelspec": {
   "display_name": "Python 3",
   "language": "python",
   "name": "python3"
  },
  "language_info": {
   "codemirror_mode": {
    "name": "ipython",
    "version": 3
   },
   "file_extension": ".py",
   "mimetype": "text/x-python",
   "name": "python",
   "nbconvert_exporter": "python",
   "pygments_lexer": "ipython3",
   "version": "3.6.1"
  }
 },
 "nbformat": 4,
 "nbformat_minor": 2
}
