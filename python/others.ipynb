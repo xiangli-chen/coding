{
 "cells": [
  {
   "cell_type": "markdown",
   "metadata": {},
   "source": [
    "# Others\n",
    "## Exception\n",
    "```python\n",
    "while True:\n",
    "    try:\n",
    "        x = int(input(\"Please enter a number: \")) \n",
    "        break\n",
    "    except ValueError:\n",
    "        print(\"Oops! That was no valid number. Try again...\")\n",
    "```"
   ]
  },
  {
   "cell_type": "markdown",
   "metadata": {},
   "source": [
    "## Memory management\n",
    "Assign = by value\n",
    "- int, float, boolean. The value is the numeric (boolean) value.  \n",
    "a = b = 5. a and b have seperate memories with the same content 5.  \n",
    "When b = 6, the value of a is still 5.\n",
    "- string, collections, objects of user-defined classes. The value is the reference.  \n",
    "Initialize a = [1,2] assining a reference refering to a memeory with content [1,2] to a.  \n",
    "when b = a and then b = [3,4], the value of a, the reference, doesn't change, and the content of the memory that reference refers to is still [1,2].  \n",
    "When b = a and then b[0] = 0, the value of a, the reference, doesn't change, but the content of the memory that reference refers to has been changed to [0,2] by b.\n",
    " \n",
    "Function a_fun(arg) arg is called by value (similar to =)."
   ]
  },
  {
   "cell_type": "markdown",
   "metadata": {},
   "source": [
    "## With statement\n",
    "The ‘with‘ statement clarifies code that previously would use   \n",
    "```try...finally``` blocks to ensure that clean-up code is executed. \n",
    "\n",
    "```python\n",
    "with expression [as variable]:  \n",
    "    with block\n",
    " \n",
    "__enter__() # called before with-block is executed\n",
    "__exit__() # called, even if the block raised an exception, and can therefore run clean-up code.\n",
    "```\n",
    "\n",
    "In the case below, f is the same object created by open(), \n",
    "because file.__enter__() returns self. \n",
    "\n",
    "```python\n",
    "with open('/etc/passwd', 'r') as f:\n",
    "    for line in f:\n",
    "        print line\n",
    "            # more processing code\n",
    "```"
   ]
  },
  {
   "cell_type": "markdown",
   "metadata": {},
   "source": [
    "## Extreme values\n",
    "```python\n",
    "import sys\n",
    "sys.maxsize # 2^(n-1)-1 depend on system\n",
    "float('inf') \n",
    "float('-inf')\n",
    "# for 32-bit \n",
    "2^31-1 # 2,147,483,647 which is 0x7FFFFFFF  \n",
    "-2^31 # -2,147,483,648\n",
    "```"
   ]
  },
  {
   "cell_type": "code",
   "execution_count": null,
   "metadata": {
    "collapsed": true
   },
   "outputs": [],
   "source": []
  }
 ],
 "metadata": {
  "kernelspec": {
   "display_name": "Python 3",
   "language": "python",
   "name": "python3"
  },
  "language_info": {
   "codemirror_mode": {
    "name": "ipython",
    "version": 3
   },
   "file_extension": ".py",
   "mimetype": "text/x-python",
   "name": "python",
   "nbconvert_exporter": "python",
   "pygments_lexer": "ipython3",
   "version": "3.6.4"
  }
 },
 "nbformat": 4,
 "nbformat_minor": 2
}
