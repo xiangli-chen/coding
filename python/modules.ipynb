{
 "cells": [
  {
   "cell_type": "markdown",
   "metadata": {},
   "source": [
    "# Module\n",
    "A module is a file containing Python definitions and statements.\n",
    "- The file name is the module name with the suffix .py appended.\n",
    "- Within a module, the module’s name (as a string) is available as the value of the global variable __name__.\n",
    "\n",
    "```python\n",
    "# assume fibo.py is a python module\n",
    "import fibo\n",
    "fibo.__name__ # print \"fibo\"\n",
    "import fibo as fb # rename a module\n",
    "\n",
    "from fibo import fib, fib2\n",
    "from fibo import fib2 as fb2 # rename an item\n",
    "from fibo import * # imports all names except those begining with __. don't use in practice.\n",
    "\n",
    "importlib.reload(modulename) # want import interactively\n",
    "\n",
    "python fibo.py <arguments> # __name__ set to \"__main__\"\n",
    "# make the file usable as a script as well as an important module\n",
    "if __name__ == \"__main__\":\n",
    "\timport sys\n",
    "\tfib(int(sys.argv[1]))\n",
    "\n",
    "dir() # find out which names a module defines\n",
    "```"
   ]
  },
  {
   "cell_type": "markdown",
   "metadata": {},
   "source": [
    "## Package\n",
    "A package is simply a module that contains sub-modules. A sub-module is specified with the usual dot notation.\n",
    "\n",
    "```python\n",
    "import os.path # only work for submodules. not items such as classes, functions.\n",
    "\n",
    "__init__.py # required to make python treat the directories as containing packages\n",
    "```"
   ]
  },
  {
   "cell_type": "markdown",
   "metadata": {},
   "source": [
    "## Math\n",
    "```python\n",
    "import math\n",
    "x = 3.3\n",
    "math.floor(x) # 3\n",
    "math.ceil(x) #  4\n",
    "math.log(x[,base])\n",
    "math.log10(x)\n",
    "math.sqrt(x)\n",
    "math.pow(x,y)\n",
    "math.exp(x) # e^x\n",
    "```"
   ]
  },
  {
   "cell_type": "markdown",
   "metadata": {},
   "source": [
    "## Random\n",
    "Random module implements pseudo-random number generators for various distributions.\n",
    "```python\n",
    "import random\n",
    "\n",
    "random.seed(a=None,version=2) # if a is omitted or None, use the current system time.\n",
    "\n",
    "random.random() # return a floating point number in the range [0.0, 1.0).\n",
    "random.randint(a, b) # return an int within [a, b]\n",
    "random.randrange(n) # return an int from [0,n-1]\n",
    "\n",
    "random.uniform(a, b) # return a floating point number within a and b.\n",
    "random.gauss(mu, sigma) # Gaussian sampling\n",
    "\n",
    "random.choice(seq) # Return a random element from seq. If empty, raises IndexError.\n",
    "random.shuffle(seq) # shuffle the seq in place\n",
    "random.sample(population, k) # Return a list of k elements. Without replacement\n",
    "```"
   ]
  },
  {
   "cell_type": "code",
   "execution_count": null,
   "metadata": {
    "collapsed": true
   },
   "outputs": [],
   "source": []
  }
 ],
 "metadata": {
  "kernelspec": {
   "display_name": "Python 3",
   "language": "python",
   "name": "python3"
  },
  "language_info": {
   "codemirror_mode": {
    "name": "ipython",
    "version": 3
   },
   "file_extension": ".py",
   "mimetype": "text/x-python",
   "name": "python",
   "nbconvert_exporter": "python",
   "pygments_lexer": "ipython3",
   "version": "3.6.1"
  }
 },
 "nbformat": 4,
 "nbformat_minor": 2
}
