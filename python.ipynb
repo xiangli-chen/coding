{
 "cells": [
  {
   "cell_type": "markdown",
   "metadata": {},
   "source": [
    "# Coding"
   ]
  },
  {
   "cell_type": "markdown",
   "metadata": {},
   "source": [
    "# Language\n",
    "## Python [notes](./python/notes.ipynb)\n",
    "- [official page](https://www.python.org/) [doc](https://docs.python.org/3/)\n",
    "- [tips](./python/tips.txt) [error-list](./python/error-list.txt)\n",
    "\n",
    "### Python notes\n",
    "- [Basic properties](./python/basic.ipynb)\n",
    "- [Collections](./python/collections.ipynb)\n",
    "- [Function and class](./python/fun-class.ipynb)\n",
    "- [Modules](./python/modules.ipynb)\n",
    "- [Others](./python/others.ipynb)\n",
    "- [Third party libraries](./python/third-party.ipynb)\n",
    "\n",
    "### Scientific computing \n",
    "- [official page](https://www.scipy.org/)\n",
    "- [lecture notes](http://www.scipy-lectures.org/)\n",
    "- Numpy [notes](./python/numpy/notes.ipynb) [official page](http://www.numpy.org/)\n",
    "\n",
    "### Projects"
   ]
  },
  {
   "cell_type": "code",
   "execution_count": null,
   "metadata": {
    "collapsed": true
   },
   "outputs": [],
   "source": []
  }
 ],
 "metadata": {
  "kernelspec": {
   "display_name": "Python 3",
   "language": "python",
   "name": "python3"
  },
  "language_info": {
   "codemirror_mode": {
    "name": "ipython",
    "version": 3
   },
   "file_extension": ".py",
   "mimetype": "text/x-python",
   "name": "python",
   "nbconvert_exporter": "python",
   "pygments_lexer": "ipython3",
   "version": "3.6.1"
  }
 },
 "nbformat": 4,
 "nbformat_minor": 2
}
